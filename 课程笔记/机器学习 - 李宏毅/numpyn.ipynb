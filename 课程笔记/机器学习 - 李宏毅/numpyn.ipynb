{
 "cells": [
  {
   "cell_type": "code",
   "execution_count": null,
   "metadata": {},
   "outputs": [],
   "source": [
    "import numpy as np"
   ]
  },
  {
   "attachments": {},
   "cell_type": "markdown",
   "metadata": {},
   "source": [
    "# 1.数据类型"
   ]
  },
  {
   "cell_type": "code",
   "execution_count": null,
   "metadata": {},
   "outputs": [],
   "source": [
    "# 类型字段名可以用于存取实际的 age 列\n",
    "import numpy as np\n",
    "dt = np.dtype([('age',np.int8)]) \n",
    "a = np.array([(10,),(20,),(30,)], dtype = dt) \n",
    "print(a['age'])"
   ]
  },
  {
   "cell_type": "code",
   "execution_count": null,
   "metadata": {},
   "outputs": [],
   "source": [
    "student = np.dtype([('name','S20'), ('age', 'i1'), ('marks', 'f4')]) \n",
    "a3 = np.array([('abc', 21, 50),('xyz', 18, 75)], dtype = student) \n",
    "print(a)"
   ]
  },
  {
   "attachments": {},
   "cell_type": "markdown",
   "metadata": {},
   "source": [
    "# 2.array 创建数组"
   ]
  },
  {
   "attachments": {},
   "cell_type": "markdown",
   "metadata": {},
   "source": [
    "array()函数，括号内可以是列表、元祖、数组、生成器\n",
    "\n",
    "arange()，类似range()，在给定的间隔内返回均匀间隔的值\n",
    "\n",
    "linespace()，返回在间隔上（前闭后闭）计算的num个均匀间隔的样本\n",
    "\n",
    "zeros()/zeros_like()/ones()/ones_like()\n",
    "\n",
    "eye(n)，创建一个正方的N*N矩阵，对角线值为1，其余为0"
   ]
  },
  {
   "cell_type": "code",
   "execution_count": null,
   "metadata": {},
   "outputs": [],
   "source": [
    "np.array([1,2,3,4,5])\n",
    "type(np.array([1,2,3,4,5]))"
   ]
  },
  {
   "cell_type": "code",
   "execution_count": null,
   "metadata": {},
   "outputs": [],
   "source": [
    "#元组\n",
    "a = np.array([1,2,3,4,5])\n",
    "\n",
    "b = np.array(a)\n",
    "\n",
    "b"
   ]
  },
  {
   "cell_type": "code",
   "execution_count": null,
   "metadata": {},
   "outputs": [],
   "source": [
    "# 迭代对象\n",
    "np.array(range(10))"
   ]
  },
  {
   "cell_type": "code",
   "execution_count": null,
   "metadata": {},
   "outputs": [],
   "source": [
    "#生成器\n",
    "np.array([i**2 for i in range(10)]) # i**2 是取平方"
   ]
  },
  {
   "attachments": {},
   "cell_type": "markdown",
   "metadata": {},
   "source": [
    "练习1 ： 创建 10 以内的偶数的数组"
   ]
  },
  {
   "cell_type": "code",
   "execution_count": 4,
   "metadata": {},
   "outputs": [
    {
     "data": {
      "text/plain": [
       "array([ 2,  4,  6,  8, 10])"
      ]
     },
     "execution_count": 4,
     "metadata": {},
     "output_type": "execute_result"
    }
   ],
   "source": [
    "np.array(range(2,11,2))\n",
    "#np.array([i for i in range(10) if i%2 == 0])"
   ]
  },
  {
   "cell_type": "code",
   "execution_count": null,
   "metadata": {},
   "outputs": [],
   "source": [
    "# 列表中元素类型不相同\n",
    "ar3 = np.array([[1,2,3],\n",
    "                ('a','b','c')\n",
    "                ]) # 二维数组，嵌套序列（列表、元组均可）\n",
    "\n",
    "ar3\n",
    "\n",
    "ar4 = np.array([[1,2,3],('a','b','c','d')])\n",
    "ar4"
   ]
  },
  {
   "cell_type": "code",
   "execution_count": null,
   "metadata": {},
   "outputs": [],
   "source": [
    "a = np.array([1,2,3,4,5,6])\n",
    "print(a)\n",
    "print(a.shape)  # 看维度\n",
    "a.shape=(2,3)  # 维度改为二行三列\n",
    "print(a)\n",
    "\n",
    "print(a * 3 )  # 数组运算\n",
    "\n",
    "print(a > 3)  # 将数组中的元素 都与 3 进行比较"
   ]
  },
  {
   "cell_type": "code",
   "execution_count": 5,
   "metadata": {},
   "outputs": [
    {
     "name": "stdout",
     "output_type": "stream",
     "text": [
      "[[[ 1  2  3]\n",
      "  [ 4  5  6]]\n",
      "\n",
      " [[ 7  8  9]\n",
      "  [10 11 12]]\n",
      "\n",
      " [[13 14 15]\n",
      "  [16 17 18]]]\n"
     ]
    }
   ],
   "source": [
    "import numpy as np\n",
    "c = np.arange(1,19)\n",
    "c.shape = (3,2,3) #(页，行，列)\n",
    "print(c)"
   ]
  },
  {
   "attachments": {},
   "cell_type": "markdown",
   "metadata": {},
   "source": [
    "### zeros(数组元素个数)"
   ]
  },
  {
   "cell_type": "code",
   "execution_count": 77,
   "metadata": {},
   "outputs": [
    {
     "name": "stdout",
     "output_type": "stream",
     "text": [
      "[0. 0. 0. 0. 0. 0. 0. 0. 0. 0.]\n",
      "[[(0, 0) (0, 0)]\n",
      " [(0, 0) (0, 0)]]\n"
     ]
    }
   ],
   "source": [
    "import numpy as np \n",
    "a = np.zeros(10)\n",
    "print(a)\n",
    "\n",
    "b = np.zeros((2,2), dtype = [('x', 'i4'), ('y', 'i4')])  \n",
    "print(b)"
   ]
  },
  {
   "attachments": {},
   "cell_type": "markdown",
   "metadata": {},
   "source": [
    "## np.zeros(数组元素个数，dtype='类型')"
   ]
  },
  {
   "cell_type": "code",
   "execution_count": null,
   "metadata": {},
   "outputs": [],
   "source": [
    "import numpy as np\n",
    "a = np.zeros(10)\n",
    "print(a)"
   ]
  },
  {
   "attachments": {},
   "cell_type": "markdown",
   "metadata": {},
   "source": [
    "## np.ones(数组元素个数，dtype='类型')"
   ]
  },
  {
   "cell_type": "code",
   "execution_count": null,
   "metadata": {},
   "outputs": [],
   "source": [
    "import numpy as np\n",
    "a = np.ones(10)\n",
    "print(a)"
   ]
  },
  {
   "attachments": {},
   "cell_type": "markdown",
   "metadata": {},
   "source": [
    "## arange"
   ]
  },
  {
   "cell_type": "code",
   "execution_count": 2,
   "metadata": {},
   "outputs": [
    {
     "name": "stdout",
     "output_type": "stream",
     "text": [
      "[0 1 2 3 4 5 6 7 8 9]\n",
      "[0. 1. 2. 3. 4. 5. 6. 7. 8. 9.]\n",
      "[ 5  6  7  8  9 10 11]\n",
      "[ 5.  7.  9. 11.]\n"
     ]
    }
   ],
   "source": [
    "import numpy as np\n",
    "print(np.arange(10))    # 返回0-9，整型\n",
    "print(np.arange(10.0))  # 返回0.0-9.0，浮点型\n",
    "print(np.arange(5,12))  # 返回5-11\n",
    "print(np.arange(5.0,12,2))  # 返回5.0-12.0，步长为2"
   ]
  },
  {
   "attachments": {},
   "cell_type": "markdown",
   "metadata": {},
   "source": [
    "## linspace()\n",
    "返回在间隔(开始，停止)上计算的num个均匀间隔的样本\n",
    "\n",
    "numpy.linspace(start,stop,num=50,endpoint=True,retstep=False,dtype=None) "
   ]
  },
  {
   "cell_type": "code",
   "execution_count": 3,
   "metadata": {},
   "outputs": [
    {
     "name": "stdout",
     "output_type": "stream",
     "text": [
      "[2.   2.25 2.5  2.75 3.  ] <class 'numpy.ndarray'>\n",
      "[2.  2.2 2.4 2.6 2.8]\n",
      "(array([2.  , 2.25, 2.5 , 2.75, 3.  ]), 0.25) <class 'tuple'>\n"
     ]
    }
   ],
   "source": [
    "\n",
    "import numpy as np\n",
    "ar1 = np.linspace(2.0, 3.0, num=5)\n",
    "ar2 = np.linspace(2.0, 3.0, num=5, endpoint=False)\n",
    "ar3 = np.linspace(2.0, 3.0, num=5, retstep=True)\n",
    "print(ar1,type(ar1))\n",
    "print(ar2)\n",
    "print(ar3,type(ar3))"
   ]
  },
  {
   "attachments": {},
   "cell_type": "markdown",
   "metadata": {},
   "source": [
    "## ndarray 对象属性的基本操作"
   ]
  },
  {
   "attachments": {},
   "cell_type": "markdown",
   "metadata": {},
   "source": [
    "### 1. 数组的维度 ： np.ndarray.shape"
   ]
  },
  {
   "cell_type": "code",
   "execution_count": null,
   "metadata": {},
   "outputs": [],
   "source": [
    "import numpy as np\n",
    "ary = np.array([1,2,3,4,5,6])\n",
    "print(type(ary),ary,ary.shape)\n",
    "\n",
    "# 二维数组\n",
    "\n",
    "ary1 = np.array([\n",
    "    [1,2,3,4],\n",
    "    [5,6,7,8]\n",
    "])\n",
    "print(type(ary1),ary1,ary1.shape)"
   ]
  },
  {
   "attachments": {},
   "cell_type": "markdown",
   "metadata": {},
   "source": [
    "### 2. 元素的类型 np.ndarray.dtype"
   ]
  },
  {
   "cell_type": "code",
   "execution_count": null,
   "metadata": {},
   "outputs": [],
   "source": [
    "import numpy as np\n",
    "ary3 = np.array([1,2,3,4,5,6])\n",
    "print(type(ary),ary,ary.dtype)\n",
    "\n",
    "# 转换ary 元素的类型\n",
    "\n",
    "ary4 = ary.astype(float)\n",
    "print(type(ary4),ary4,ary4.dtype)\n",
    "\n",
    "ary5 = ary.astype(str)\n",
    "print(type(ary5),ary5,ary5.dtype)"
   ]
  },
  {
   "attachments": {},
   "cell_type": "markdown",
   "metadata": {},
   "source": [
    "### 数组元素的个数：np.ndarray.size"
   ]
  },
  {
   "cell_type": "code",
   "execution_count": 52,
   "metadata": {},
   "outputs": [
    {
     "name": "stdout",
     "output_type": "stream",
     "text": [
      "(2, 4) 8 2\n"
     ]
    }
   ],
   "source": [
    "import numpy as np\n",
    "ary2 = np.array([\n",
    "    [1,2,3,4],\n",
    "    [5,6,7,8]\n",
    "])\n",
    "# 观察维度，size, len 的区别\n",
    "print(ary2.shape,ary2.size,len(ary2))"
   ]
  },
  {
   "attachments": {},
   "cell_type": "markdown",
   "metadata": {},
   "source": [
    "### 数组元素索引（下标）\n",
    "数组对象[..., 页号,行号,列号]\n",
    "\n",
    "下标从 0 开始，到数组len-1结束"
   ]
  },
  {
   "attachments": {},
   "cell_type": "markdown",
   "metadata": {},
   "source": [
    "## 维度基础操作"
   ]
  },
  {
   "cell_type": "code",
   "execution_count": null,
   "metadata": {},
   "outputs": [],
   "source": [
    "import numpy as np\n",
    "a = np.arange(1,9)"
   ]
  },
  {
   "attachments": {},
   "cell_type": "markdown",
   "metadata": {},
   "source": [
    "## 自定义复合类型"
   ]
  },
  {
   "cell_type": "code",
   "execution_count": 16,
   "metadata": {},
   "outputs": [
    {
     "name": "stdout",
     "output_type": "stream",
     "text": [
      "[('zs', [90, 80, 85], 15) ('ls', [92, 81, 83], 16)\n",
      " ('ww', [95, 85, 85], 15)]\n",
      "ls\n"
     ]
    },
    {
     "name": "stderr",
     "output_type": "stream",
     "text": [
      "/var/folders/sx/pzbm52bx4p3gxcw4dtx_frfh0000gn/T/ipykernel_70845/470386524.py:14: FutureWarning: Passing (type, 1) or '1type' as a synonym of type is deprecated; in a future version of numpy, it will be understood as (type, (1,)) / '(1,)type'.\n",
      "  b = np.array(data,dtype=[('name','str',2),\n"
     ]
    }
   ],
   "source": [
    "import numpy as np \n",
    "data=[\n",
    "    ('zs',[90,80,85],15),\n",
    "    ('ls',[92,81,83],16),\n",
    "    ('ww',[95,85,85],15)\n",
    "]\n",
    "# 第一种设置dtype的方式\n",
    "a = np.array(data, dtype='U3,3int32,int32')\n",
    "# print(a)\n",
    "# print(a[0]['f0'],\":\",a[1]['f1'])\n",
    "# print(\"==========\")\n",
    "\n",
    "# 第二种\n",
    "b = np.array(data,dtype=[('name','str',2),\n",
    "                         ('scores','int32',3),\n",
    "                         ('age','int32',1)\n",
    "                         ])\n",
    "\n",
    "# print(b)\n",
    "# print(b[2]['age'])\n",
    "\n",
    "\n",
    "# 第三种\n",
    "c = np.array(data,dtype={\n",
    "    'names':['name','scores','age'],\n",
    "    'formats':['U2','3int32','int32']\n",
    "})\n",
    "\n",
    "print(c)\n",
    "print(c[1]['name'])"
   ]
  },
  {
   "cell_type": "code",
   "execution_count": 27,
   "metadata": {},
   "outputs": [
    {
     "name": "stdout",
     "output_type": "stream",
     "text": [
      "[(10,) (20,) (30,)]\n",
      "[10 20 30]\n",
      "20\n",
      "[(10,) (20,) (30,)]\n",
      "[10 20 30]\n",
      "10\n"
     ]
    }
   ],
   "source": [
    "import numpy as np\n",
    "a = np.array([10,20,30],dtype=[('age',np.int8)])\n",
    "b = np.array([(10),(20),(30)],dtype=[('age',np.int8)])\n",
    "print(a)\n",
    "print(a['age'])\n",
    "print(a['age'][1])\n",
    "print(b)\n",
    "print(b['age'])\n",
    "print(b['age'][0])"
   ]
  },
  {
   "attachments": {},
   "cell_type": "markdown",
   "metadata": {},
   "source": [
    "# 2.维度操作\n",
    "## （1）视图变维 （数据共享）\n",
    "## reshape() 和 ravel()"
   ]
  },
  {
   "cell_type": "code",
   "execution_count": 35,
   "metadata": {},
   "outputs": [
    {
     "name": "stdout",
     "output_type": "stream",
     "text": [
      "[1 2 3 4 5 6 7 8]\n",
      "[[1 2 3 4]\n",
      " [5 6 7 8]]\n",
      "====\n",
      "[[[1 2]\n",
      "  [3 4]]\n",
      "\n",
      " [[5 6]\n",
      "  [7 8]]]\n",
      "====\n",
      "[1 2 3 4 5 6 7 8]\n"
     ]
    }
   ],
   "source": [
    "import numpy as np\n",
    "\n",
    "a = np.arange(1,9)\n",
    "print(a) # p[1,2,3,4,5,6,7,8]\n",
    "b = a.reshape(2,4) # 视图变维，变为2 行 4 列的二维数组\n",
    "print(b)\n",
    "c = b.reshape(2,2,2)  # 视图变维，变为2 页 2 行 2 列的三维数组\n",
    "print(\"====\")\n",
    "print(c)\n",
    "print(\"====\")\n",
    "d = c.ravel()  # 变为 1 维数组\n",
    "print(d)"
   ]
  },
  {
   "cell_type": "code",
   "execution_count": 42,
   "metadata": {},
   "outputs": [
    {
     "name": "stdout",
     "output_type": "stream",
     "text": [
      "[1 2 3 4 5 6 7 8 9] (9,)\n",
      "[1 2 3 4 5 6 7 8 9] ->b\n",
      "=====数据独立后原修改不影响新的=====\n",
      "[88  2  3  4  5  6  7  8  9]\n",
      "[1 2 3 4 5 6 7 8 9]\n"
     ]
    }
   ],
   "source": [
    "import numpy as np\n",
    "a = np.arange(1,10)\n",
    "print(a, a.shape)\n",
    "\n",
    "# 复制变维\n",
    "b = a. flatten()\n",
    "print(b,'->b')\n",
    "print(\"=====数据独立后原修改不影响新的=====\")\n",
    "a[0]= 88\n",
    "print(a)\n",
    "print(b)"
   ]
  },
  {
   "attachments": {},
   "cell_type": "markdown",
   "metadata": {},
   "source": [
    "## 切片操作"
   ]
  },
  {
   "attachments": {},
   "cell_type": "markdown",
   "metadata": {},
   "source": [
    "### 1. 一维数组"
   ]
  },
  {
   "cell_type": "code",
   "execution_count": 50,
   "metadata": {},
   "outputs": [
    {
     "name": "stdout",
     "output_type": "stream",
     "text": [
      "[1 2 3 4 5 6 7 8 9]\n",
      "[1 2 3]\n",
      "[4 5 6]\n",
      "[7 8 9]\n",
      "[9 8 7 6 5 4 3 2 1]\n",
      "[9 8 7]\n",
      "[6 5 4]\n",
      "[3 2 1]\n"
     ]
    }
   ],
   "source": [
    "import numpy as np\n",
    "a = np.arange(1,10)\n",
    "print(a) # 123456789\n",
    "print(a[:3]) # 123\n",
    "print(a[3:6]) # 456\n",
    "print(a[6:]) # 789\n",
    "print(a[::-1]) #987654321\n",
    "print(a[:-4:-1]) #987\n",
    "print(a[-4:-7:-1]) #654\n",
    "print(a[-7::-1]) # 321"
   ]
  },
  {
   "attachments": {},
   "cell_type": "markdown",
   "metadata": {},
   "source": [
    "### 2. 多维数组"
   ]
  },
  {
   "attachments": {},
   "cell_type": "markdown",
   "metadata": {},
   "source": [
    "二维数组切片： 数组对象[行操作,列操作]\n",
    "\n",
    "多维：数组对象[1维度,2维度,3维度]"
   ]
  },
  {
   "cell_type": "code",
   "execution_count": 53,
   "metadata": {},
   "outputs": [
    {
     "name": "stdout",
     "output_type": "stream",
     "text": [
      "[[1 2 3]\n",
      " [4 5 6]\n",
      " [7 8 9]]\n",
      "[[1 2]\n",
      " [4 5]]\n",
      "[[1 3]\n",
      " [7 9]]\n"
     ]
    }
   ],
   "source": [
    "import numpy as np\n",
    "a = np.arange(1,10)\n",
    "a.resize(3,3) # 更改数组的维度\n",
    "print(a)\n",
    "print(a[:2,:2]) # 拿到 12 行，12 列\n",
    "print(a[::2,::2]) # 拿到 13 行，13 列"
   ]
  },
  {
   "cell_type": "code",
   "execution_count": 63,
   "metadata": {},
   "outputs": [
    {
     "name": "stdout",
     "output_type": "stream",
     "text": [
      "[[[ 1  2  3]\n",
      "  [ 4  5  6]\n",
      "  [ 7  8  9]]\n",
      "\n",
      " [[10 11 12]\n",
      "  [13 14 15]\n",
      "  [16 17 18]]\n",
      "\n",
      " [[19 20 21]\n",
      "  [22 23 24]\n",
      "  [25 26 27]]]\n",
      "======\n",
      "切出 1 页\n",
      "[[1 2 3]\n",
      " [4 5 6]\n",
      " [7 8 9]]\n",
      "所有页的第一行\n",
      "[[ 4  5  6]\n",
      " [13 14 15]\n",
      " [22 23 24]]\n",
      "切出 0 页的 1 行 1 列\n",
      "[2 5 8]\n"
     ]
    }
   ],
   "source": [
    "import numpy as np\n",
    "a = np.arange(1,28)\n",
    "a.resize(3,3,3)\n",
    "print(a)\n",
    "\n",
    "print(\"======\")\n",
    "# 切出 1 页\n",
    "print(\"切出 1 页\")\n",
    "print(a[0,:,:])\n",
    "\n",
    "# 切出 所有页的第一行\n",
    "print(\"所有页的第一行\")\n",
    "print(a[:,1,:])\n",
    "\n",
    "# 切出 0 页的 1 行 1 列\n",
    "print(\"切出 0 页的 1 行 1 列\")\n",
    "print(a[0,:,1])"
   ]
  },
  {
   "attachments": {},
   "cell_type": "markdown",
   "metadata": {},
   "source": [
    "### 布尔索引"
   ]
  },
  {
   "cell_type": "code",
   "execution_count": 78,
   "metadata": {},
   "outputs": [
    {
     "name": "stdout",
     "output_type": "stream",
     "text": [
      "我们的数组是：\n",
      "[[ 0  1  2]\n",
      " [ 3  4  5]\n",
      " [ 6  7  8]\n",
      " [ 9 10 11]]\n",
      "\n",
      "\n",
      "大于 5 的元素是：\n",
      "[ 6  7  8  9 10 11]\n"
     ]
    }
   ],
   "source": [
    "# 获取大于 5 的元素\n",
    "\n",
    "import numpy as np\n",
    "x = np.array([[0,1,2],[3,4,5],[6,7,8],[9,10,11]])\n",
    "print ('我们的数组是：')\n",
    "print (x)\n",
    "print ('\\n')\n",
    "# 打印出大于 5 的元素  \n",
    "print  ('大于 5 的元素是：')\n",
    "print (x[x >  5])"
   ]
  },
  {
   "attachments": {},
   "cell_type": "markdown",
   "metadata": {},
   "source": [
    "### 花式索引（利用整数数组）"
   ]
  },
  {
   "attachments": {},
   "cell_type": "markdown",
   "metadata": {},
   "source": [
    "#### 1. 一维数组"
   ]
  },
  {
   "cell_type": "code",
   "execution_count": 79,
   "metadata": {},
   "outputs": [
    {
     "name": "stdout",
     "output_type": "stream",
     "text": [
      "[0 1 2 3 4 5 6 7 8]\n",
      "-------读取下标对应的元素-------\n",
      "[0 6]\n",
      "0\n",
      "6\n"
     ]
    }
   ],
   "source": [
    "import numpy as np\n",
    "\n",
    "x = np.arange(9)\n",
    "print(x)\n",
    "# 一维数组读取指定下标对应的元素\n",
    "print(\"-------读取下标对应的元素-------\")\n",
    "x2 = x[[0, 6]] # 使用花式索引\n",
    "print(x2)\n",
    "\n",
    "print(x2[0])\n",
    "print(x2[1])"
   ]
  },
  {
   "attachments": {},
   "cell_type": "markdown",
   "metadata": {},
   "source": [
    "#### 2. 二维数组"
   ]
  },
  {
   "attachments": {},
   "cell_type": "markdown",
   "metadata": {},
   "source": [
    "`print(x[[数字]])` 输出对应下标所在的行「下标从 0 开始」"
   ]
  },
  {
   "cell_type": "code",
   "execution_count": 80,
   "metadata": {},
   "outputs": [
    {
     "name": "stdout",
     "output_type": "stream",
     "text": [
      "[[ 0  1  2  3]\n",
      " [ 4  5  6  7]\n",
      " [ 8  9 10 11]\n",
      " [12 13 14 15]\n",
      " [16 17 18 19]\n",
      " [20 21 22 23]\n",
      " [24 25 26 27]\n",
      " [28 29 30 31]]\n",
      "-------读取下标对应的行-------\n",
      "[[16 17 18 19]\n",
      " [ 8  9 10 11]\n",
      " [ 4  5  6  7]\n",
      " [28 29 30 31]]\n"
     ]
    }
   ],
   "source": [
    "# 顺序存储\n",
    "import numpy as np \n",
    " \n",
    "x=np.arange(32).reshape((8,4))\n",
    "print(x)\n",
    "# 二维数组读取指定下标对应的行\n",
    "print(\"-------读取下标对应的行-------\")\n",
    "print (x[[4,2,1,7]])"
   ]
  },
  {
   "cell_type": "code",
   "execution_count": 81,
   "metadata": {},
   "outputs": [
    {
     "name": "stdout",
     "output_type": "stream",
     "text": [
      "[[16 17 18 19]\n",
      " [24 25 26 27]\n",
      " [28 29 30 31]\n",
      " [ 4  5  6  7]]\n"
     ]
    }
   ],
   "source": [
    "# 倒序索引\n",
    "import numpy as np \n",
    " \n",
    "x=np.arange(32).reshape((8,4))\n",
    "print (x[[-4,-2,-1,-7]])"
   ]
  },
  {
   "cell_type": "code",
   "execution_count": 83,
   "metadata": {},
   "outputs": [
    {
     "name": "stdout",
     "output_type": "stream",
     "text": [
      "[[ 0  1  2  3]\n",
      " [ 4  5  6  7]\n",
      " [ 8  9 10 11]\n",
      " [12 13 14 15]\n",
      " [16 17 18 19]\n",
      " [20 21 22 23]\n",
      " [24 25 26 27]\n",
      " [28 29 30 31]]\n",
      "======\n",
      "[[ 4  7  5  6]\n",
      " [20 23 21 22]\n",
      " [28 31 29 30]\n",
      " [ 8 11  9 10]]\n"
     ]
    }
   ],
   "source": [
    "# 传入多个索引数组 要使用np.ix_\n",
    "\n",
    "import numpy as np \n",
    " \n",
    "x=np.arange(32).reshape((8,4))\n",
    "print(x)\n",
    "print(\"======\")\n",
    "print(x[np.ix_([1,5,7,2],[0,3,1,2])])"
   ]
  },
  {
   "cell_type": "markdown",
   "metadata": {},
   "source": [
    "### 掩码操作"
   ]
  },
  {
   "cell_type": "code",
   "execution_count": 66,
   "metadata": {},
   "outputs": [
    {
     "name": "stdout",
     "output_type": "stream",
     "text": [
      "[1 3 5 7 9]\n"
     ]
    }
   ],
   "source": [
    "import numpy as np\n",
    "a = np.arange(1,10)\n",
    "mask =[True,False,True,False,True,False,True,False,True]\n",
    "print(a[mask])"
   ]
  },
  {
   "cell_type": "code",
   "execution_count": 68,
   "metadata": {},
   "outputs": [
    {
     "name": "stdout",
     "output_type": "stream",
     "text": [
      "[ 3  6  9 12 15 18 21 24 27 30 33 36 39 42 45 48 51 54 57 60 63 66 69 72\n",
      " 75 78 81 84 87 90 93 96 99]\n"
     ]
    }
   ],
   "source": [
    "\"\"\"mask掩码 100 的三倍数\"\"\"\n",
    "import numpy as np\n",
    "a = np.arange(1,100)\n",
    "# print(a[a%3 == 0])\n",
    "mask = a%3 == 0 # mask 为 True 和 False 的数组\n",
    "print(a[mask])"
   ]
  },
  {
   "cell_type": "code",
   "execution_count": 70,
   "metadata": {},
   "outputs": [
    {
     "name": "stdout",
     "output_type": "stream",
     "text": [
      "['Mate30' 'apple' 'oppo' 'vivo' 'mi']\n"
     ]
    }
   ],
   "source": [
    "import numpy as np\n",
    "names = np.array(['apple','Mate30','mi','oppo','vivo'])\n",
    "rank = [1,0,3,4,2]\n",
    "print(names[rank])"
   ]
  },
  {
   "attachments": {},
   "cell_type": "markdown",
   "metadata": {},
   "source": [
    "## 数组操作"
   ]
  },
  {
   "attachments": {},
   "cell_type": "markdown",
   "metadata": {},
   "source": [
    "### 1. 垂直方向"
   ]
  },
  {
   "cell_type": "code",
   "execution_count": 72,
   "metadata": {},
   "outputs": [
    {
     "name": "stdout",
     "output_type": "stream",
     "text": [
      "[[1 2 3]\n",
      " [4 5 6]]\n",
      "[[ 7  8  9]\n",
      " [10 11 12]]\n",
      "[[ 1  2  3]\n",
      " [ 4  5  6]\n",
      " [ 7  8  9]\n",
      " [10 11 12]]\n"
     ]
    }
   ],
   "source": [
    "import numpy as np \n",
    "a = np.arange(1,7).reshape(2,3)\n",
    "b = np.arange(7,13).reshape(2,3)\n",
    "print(a)\n",
    "print(b)\n",
    "# 垂直方向完成组合操作，生成新数组\n",
    "c = np.vstack((a,b))\n",
    "print(c)\n",
    "# 垂直方向完成拆分操作，生成两个数组\n",
    "d,e=np.vsplit(c,2)  # 拆几个 就需要用几个变量来进行接受"
   ]
  },
  {
   "attachments": {},
   "cell_type": "markdown",
   "metadata": {},
   "source": [
    "### 2. 水平方向"
   ]
  },
  {
   "cell_type": "code",
   "execution_count": 73,
   "metadata": {},
   "outputs": [
    {
     "name": "stdout",
     "output_type": "stream",
     "text": [
      "[[ 1  2  3  7  8  9]\n",
      " [ 4  5  6 10 11 12]]\n"
     ]
    }
   ],
   "source": [
    "import numpy as np \n",
    "a = np.arange(1,7).reshape(2,3)\n",
    "b = np.arange(7,13).reshape(2,3)\n",
    "\n",
    "#水平方向\n",
    "c = np.hstack((a,b))\n",
    "print(c)\n",
    "d,e = np.hsplit(c,2)"
   ]
  },
  {
   "attachments": {},
   "cell_type": "markdown",
   "metadata": {},
   "source": [
    "### 3. 深度方向操作"
   ]
  },
  {
   "cell_type": "markdown",
   "metadata": {},
   "source": []
  },
  {
   "cell_type": "code",
   "execution_count": 75,
   "metadata": {},
   "outputs": [
    {
     "name": "stdout",
     "output_type": "stream",
     "text": [
      "[[[ 1  7]\n",
      "  [ 2  8]\n",
      "  [ 3  9]]\n",
      "\n",
      " [[ 4 10]\n",
      "  [ 5 11]\n",
      "  [ 6 12]]]\n"
     ]
    }
   ],
   "source": [
    "import numpy as np \n",
    "a = np.arange(1,7).reshape(2,3)\n",
    "b = np.arange(7,13).reshape(2,3)\n",
    "#深度方向\n",
    "i = np.dstack((a,b))\n",
    "print(i)\n",
    "d,e = np.dsplit(c,2)"
   ]
  }
 ],
 "metadata": {
  "kernelspec": {
   "display_name": "base",
   "language": "python",
   "name": "python3"
  },
  "language_info": {
   "codemirror_mode": {
    "name": "ipython",
    "version": 3
   },
   "file_extension": ".py",
   "mimetype": "text/x-python",
   "name": "python",
   "nbconvert_exporter": "python",
   "pygments_lexer": "ipython3",
   "version": "3.10.11"
  },
  "orig_nbformat": 4
 },
 "nbformat": 4,
 "nbformat_minor": 2
}
