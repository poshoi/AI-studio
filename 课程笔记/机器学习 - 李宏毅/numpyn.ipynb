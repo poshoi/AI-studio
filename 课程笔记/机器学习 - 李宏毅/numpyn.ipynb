{
 "cells": [
  {
   "cell_type": "code",
   "execution_count": null,
   "metadata": {},
   "outputs": [],
   "source": [
    "import numpy as np"
   ]
  },
  {
   "attachments": {},
   "cell_type": "markdown",
   "metadata": {},
   "source": [
    "# 1.数据类型"
   ]
  },
  {
   "cell_type": "code",
   "execution_count": null,
   "metadata": {},
   "outputs": [],
   "source": [
    "# 类型字段名可以用于存取实际的 age 列\n",
    "import numpy as np\n",
    "dt = np.dtype([('age',np.int8)]) \n",
    "a = np.array([(10,),(20,),(30,)], dtype = dt) \n",
    "print(a['age'])"
   ]
  },
  {
   "cell_type": "code",
   "execution_count": null,
   "metadata": {},
   "outputs": [],
   "source": [
    "student = np.dtype([('name','S20'), ('age', 'i1'), ('marks', 'f4')]) \n",
    "a3 = np.array([('abc', 21, 50),('xyz', 18, 75)], dtype = student) \n",
    "print(a)"
   ]
  },
  {
   "attachments": {},
   "cell_type": "markdown",
   "metadata": {},
   "source": [
    "# 2.array 创建数组"
   ]
  },
  {
   "attachments": {},
   "cell_type": "markdown",
   "metadata": {},
   "source": [
    "## np.array(初始值0，结束值-1，步长)"
   ]
  },
  {
   "cell_type": "code",
   "execution_count": null,
   "metadata": {},
   "outputs": [],
   "source": [
    "np.array([1,2,3,4,5])\n",
    "type(np.array([1,2,3,4,5]))"
   ]
  },
  {
   "cell_type": "code",
   "execution_count": null,
   "metadata": {},
   "outputs": [],
   "source": [
    "#元组\n",
    "a = np.array([1,2,3,4,5])\n",
    "\n",
    "b = np.array(a)\n",
    "\n",
    "b"
   ]
  },
  {
   "cell_type": "code",
   "execution_count": null,
   "metadata": {},
   "outputs": [],
   "source": [
    "# 迭代对象\n",
    "np.array(range(10))"
   ]
  },
  {
   "cell_type": "code",
   "execution_count": null,
   "metadata": {},
   "outputs": [],
   "source": [
    "#生成器\n",
    "np.array([i**2 for i in range(10)]) # i**2 是取平方"
   ]
  },
  {
   "cell_type": "code",
   "execution_count": null,
   "metadata": {},
   "outputs": [],
   "source": []
  },
  {
   "attachments": {},
   "cell_type": "markdown",
   "metadata": {},
   "source": [
    "练习1 ： 创建 10 以内的偶数的数组"
   ]
  },
  {
   "cell_type": "code",
   "execution_count": null,
   "metadata": {},
   "outputs": [],
   "source": [
    "np.array(range(2,11,2))\n",
    "#np.array([i for i in range(10) if i%2 == 0])"
   ]
  },
  {
   "cell_type": "code",
   "execution_count": null,
   "metadata": {},
   "outputs": [],
   "source": [
    "# 列表中元素类型不相同\n",
    "ar3 = np.array([[1,2,3],\n",
    "                ('a','b','c')\n",
    "                ]) # 二维数组，嵌套序列（列表、元组均可）\n",
    "\n",
    "ar3"
   ]
  },
  {
   "cell_type": "code",
   "execution_count": null,
   "metadata": {},
   "outputs": [],
   "source": [
    "ar4 = np.array([[1,2,3],('a','b','c','d')])\n",
    "ar4"
   ]
  },
  {
   "cell_type": "code",
   "execution_count": null,
   "metadata": {},
   "outputs": [],
   "source": [
    "a = np.array([1,2,3,4,5,6])\n",
    "print(a)\n",
    "print(a.shape)  # 看维度\n",
    "a.shape=(2,3)  # 维度改为二行三列\n",
    "print(a)\n",
    "\n",
    "print(a * 3 )  # 数组运算\n",
    "\n",
    "print(a > 3)  # 将数组中的元素 都与 3 进行比较"
   ]
  },
  {
   "attachments": {},
   "cell_type": "markdown",
   "metadata": {},
   "source": [
    "## np.zeros(数组元素个数，dtype='类型')"
   ]
  },
  {
   "cell_type": "code",
   "execution_count": null,
   "metadata": {},
   "outputs": [],
   "source": [
    "import numpy as np\n",
    "a = np.zeros(10)\n",
    "print(a)"
   ]
  },
  {
   "attachments": {},
   "cell_type": "markdown",
   "metadata": {},
   "source": [
    "## np.ones(数组元素个数，dtype='类型')"
   ]
  },
  {
   "cell_type": "code",
   "execution_count": null,
   "metadata": {},
   "outputs": [],
   "source": [
    "import numpy as np\n",
    "a = np.ones(10)\n",
    "print(a)"
   ]
  },
  {
   "attachments": {},
   "cell_type": "markdown",
   "metadata": {},
   "source": [
    "## ndarray 对象属性的基本操作"
   ]
  },
  {
   "attachments": {},
   "cell_type": "markdown",
   "metadata": {},
   "source": [
    "### 1. 数组的维度 ： np.ndarray.shape"
   ]
  },
  {
   "cell_type": "code",
   "execution_count": null,
   "metadata": {},
   "outputs": [],
   "source": [
    "import numpy as np\n",
    "ary = np.array([1,2,3,4,5,6])\n",
    "print(type(ary),ary,ary.shape)\n",
    "\n",
    "# 二维数组\n",
    "\n",
    "ary1 = np.array([\n",
    "    [1,2,3,4],\n",
    "    [5,6,7,8]\n",
    "])\n",
    "print(type(ary1),ary1,ary1.shape)"
   ]
  },
  {
   "attachments": {},
   "cell_type": "markdown",
   "metadata": {},
   "source": [
    "### 2. 元素的类型 np.ndarray.dtype"
   ]
  },
  {
   "cell_type": "code",
   "execution_count": null,
   "metadata": {},
   "outputs": [],
   "source": [
    "import numpy as np\n",
    "ary3 = np.array([1,2,3,4,5,6])\n",
    "print(type(ary),ary,ary.dtype)\n",
    "\n",
    "# 转换ary 元素的类型\n",
    "\n",
    "ary4 = ary.astype(float)\n",
    "print(type(ary4),ary4,ary4.dtype)\n",
    "\n",
    "ary5 = ary.astype(str)\n",
    "print(type(ary5),ary5,ary5.dtype)"
   ]
  },
  {
   "attachments": {},
   "cell_type": "markdown",
   "metadata": {},
   "source": [
    "### 数组元素的个数：np.ndarray.size"
   ]
  },
  {
   "cell_type": "code",
   "execution_count": 52,
   "metadata": {},
   "outputs": [
    {
     "name": "stdout",
     "output_type": "stream",
     "text": [
      "(2, 4) 8 2\n"
     ]
    }
   ],
   "source": [
    "import numpy as np\n",
    "ary2 = np.array([\n",
    "    [1,2,3,4],\n",
    "    [5,6,7,8]\n",
    "])\n",
    "# 观察维度，size, len 的区别\n",
    "print(ary2.shape,ary2.size,len(ary2))"
   ]
  },
  {
   "attachments": {},
   "cell_type": "markdown",
   "metadata": {},
   "source": [
    "### 数组元素索引（下标）\n",
    "数组对象[..., 页号,行号,列号]\n",
    "\n",
    "下标从 0 开始，到数组len-1结束"
   ]
  }
 ],
 "metadata": {
  "kernelspec": {
   "display_name": "base",
   "language": "python",
   "name": "python3"
  },
  "language_info": {
   "codemirror_mode": {
    "name": "ipython",
    "version": 3
   },
   "file_extension": ".py",
   "mimetype": "text/x-python",
   "name": "python",
   "nbconvert_exporter": "python",
   "pygments_lexer": "ipython3",
   "version": "3.10.11"
  },
  "orig_nbformat": 4
 },
 "nbformat": 4,
 "nbformat_minor": 2
}
